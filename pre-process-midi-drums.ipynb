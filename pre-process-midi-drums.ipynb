{
 "cells": [
  {
   "cell_type": "code",
   "execution_count": 1,
   "metadata": {},
   "outputs": [],
   "source": [
    "import midi\n",
    "import pdb\n",
    "\n",
    "PPQ = 480 # Pulse per quater note\n",
    "event_per_bar = 16 # to quantise.\n",
    "min_ppq = PPQ / (event_per_bar/4)\n",
    "# ignore: 39 hand clap, 54 tambourine, 56 Cowbell, 58 Vibraslap, 60-81\n",
    "drum_conversion = {35:36, # acoustic bass drum -> bass drum (36)\n",
    "                    37:38, 40:38, # 37:side stick, 38: acou snare, 40: electric snare\n",
    "                    43:41, # 41 low floor tom, 43 ghigh floor tom\n",
    "                    47:45, # 45 low tom, 47 low-mid tom\n",
    "                    50:48, # 50 high tom, 48 hi mid tom\n",
    "                    44:42, # 42 closed HH, 44 pedal HH\n",
    "                    57:49, # 57 Crash 2, 49 Crash 1\n",
    "                    59:51, 53:51, 55:51, # 59 Ride 2, 51 Ride 1, 53 Ride bell, 55 Splash\n",
    "                    52:49 # 52: China cymbal\n",
    "                    }\n",
    "# k, sn,cHH,oHH,LFtom,ltm,htm,Rde,Crash\n",
    "allowed_pitch = [36, 38, 42, 46, 41, 45, 48, 51, 49] # 46: open HH\n",
    "cymbals_pitch = [49, 51] # crash, ride\n",
    "cymbals_pitch = [] # crash, ride\n",
    "# pitch_to_midipitch = {36:midi.C_2, # kick # for general MIDI Drum map\n",
    "# \t\t\t\t\t\t38:midi.D_2, # Snare\n",
    "# \t\t\t\t\t\t39:midi.Eb_2, # hand clap (it's alive by mistake..)\n",
    "# \t\t\t\t\t\t41:midi.F_2, # Low floor tom\n",
    "# \t\t\t\t\t\t42:midi.Gb_2, # Close HH\n",
    "# \t\t\t\t\t\t45:midi.A_2, # Low tom\n",
    "# \t\t\t\t\t\t46:midi.Bb_2, # Open HH\n",
    "# \t\t\t\t\t\t48:midi.C_3,  # Hi Mid Tom\n",
    "# \t\t\t\t\t\t49:midi.Db_3, # Crash\n",
    "# \t\t\t\t\t\t51:midi.Eb_3 # Ride\n",
    "# \t\t\t\t\t\t}\n",
    "\n",
    "pitch_to_midipitch = {36:midi.C_3,  # for logic 'SoCal' drum mapping\n",
    "                        38:midi.D_3, \n",
    "                        39:midi.Eb_3,\n",
    "                        41:midi.F_3,\n",
    "                        42:midi.Gb_3,\n",
    "                        45:midi.A_3,\n",
    "                        46:midi.Bb_3,\n",
    "                        48:midi.C_4,\n",
    "                        49:midi.Db_4,\n",
    "                        51:midi.Eb_4\n",
    "                        }\n",
    "\n",
    "class Note:\n",
    "\tdef __init__(self, pitch, c_tick):\n",
    "\t\tself.pitch = pitch\n",
    "\t\tself.c_tick = c_tick # cumulated_tick of a midi note\n",
    "\n",
    "\tdef add_index(self, idx):\n",
    "\t\t'''index --> 16-th note-based index starts from 0'''\n",
    "\t\tself.idx = idx\n",
    "\n",
    "class Note_List():\n",
    "\tdef __init__(self):\n",
    "\t\t''''''\n",
    "\t\tself.notes = []\n",
    "\t\tself.quantised = False\n",
    "\t\tself.max_idx = None\n",
    "\n",
    "\tdef add_note(self, note):\n",
    "\t\t'''note: instance of Note class'''\n",
    "\t\tself.notes.append(note)\n",
    "\n",
    "\tdef quantise(self, minimum_ppq):\n",
    "\t\t'''\n",
    "\t\te.g. if minimum_ppq=120, quantise by 16-th note.\n",
    "\t\t\n",
    "\t\t'''\n",
    "\t\tif not self.quantised:\n",
    "\t\t\tfor note in self.notes:\n",
    "\t\t\t\tnote.c_tick = ((note.c_tick+minimum_ppq/2)/minimum_ppq)* minimum_ppq # quantise\n",
    "\t\t\t\tnote.add_index(note.c_tick/minimum_ppq)\n",
    "\n",
    "\t\t\tself.max_idx = note.idx\n",
    "\t\t\tif (self.max_idx + 1) % event_per_bar != 0:\n",
    "\t\t\t\tself.max_idx += event_per_bar - ((self.max_idx + 1) % event_per_bar) # make sure it has a FULL bar at the end.\n",
    "\t\t\tself.quantised = True\n",
    "\n",
    "\t\treturn\n",
    "\n",
    "\tdef simplify_drums(self):\n",
    "\t\t''' use only allowed pitch - and converted not allowed pitch to the similar in a sense of drums!\n",
    "\t\t'''\n",
    "\n",
    "\t\tfor note in self.notes:\n",
    "\t\t\tif note.pitch in drum_conversion: # ignore those not included in the key\n",
    "\t\t\t\tnote.pitch = drum_conversion[note.pitch]\n",
    "\t\t\n",
    "\t\tself.notes = [note for note in self.notes if note.pitch in allowed_pitch]\t\n",
    "\t\t\t\t\n",
    "\t\treturn\n",
    "\t\n",
    "\tdef return_as_text(self):\n",
    "\t\t''''''\n",
    "\t\tlength = self.max_idx + 1 # of events in the track.\n",
    "\t\tevent_track = []\n",
    "\t\tfor note_idx in xrange(length):\n",
    "\t\t\tevent_track.append(['0']*len(allowed_pitch))\n",
    "\t\t\t\n",
    "\t\tnum_bars = length/event_per_bar# + ceil(len(event_texts_temp) % _event_per_bar)\n",
    "\n",
    "\t\tfor note in self.notes:\n",
    "\t\t\tpitch_here = note.pitch\n",
    "\t\t\tnote_add_pitch_index = allowed_pitch.index(pitch_here) # 0-8\n",
    "\t\t\tevent_track[note.idx][note_add_pitch_index] = '1'\n",
    "\t\t\t# print note.idx, note.c_tick, note_add_pitch_index, ''.join(event_track[note.idx])\n",
    "\t\t\t# pdb.set_trace()\n",
    "\t\t\t\n",
    "\t\tevent_text_temp = ['0b'+''.join(e) for e in event_track] # encoding to binary\n",
    "\t\t\n",
    "\t\tevent_text = []\n",
    "\t\t# event_text.append('SONG_BEGIN')\n",
    "\t\t# event_text.append('BAR')\n",
    "\t\tfor bar_idx in xrange(num_bars):\n",
    "\t\t\tevent_from = bar_idx * event_per_bar\n",
    "\t\t\tevent_to = event_from + event_per_bar\n",
    "\t\t\tevent_text = event_text + event_text_temp[event_from:event_to]\n",
    "\t\t\tevent_text.append('BAR')\n",
    "\n",
    "\t\t# event_text.append('SONG_END')\n",
    "\n",
    "\t\treturn ' '.join(event_text)\n",
    "\t\t"
   ]
  },
  {
   "cell_type": "code",
   "execution_count": 44,
   "metadata": {},
   "outputs": [],
   "source": [
    "n = Note(100, 30.3)\n",
    "m = Note(101, 32.1)\n"
   ]
  },
  {
   "cell_type": "code",
   "execution_count": 45,
   "metadata": {},
   "outputs": [],
   "source": [
    "a = Note_List()"
   ]
  },
  {
   "cell_type": "code",
   "execution_count": 46,
   "metadata": {},
   "outputs": [],
   "source": [
    "a.add_note(n)"
   ]
  },
  {
   "cell_type": "code",
   "execution_count": 47,
   "metadata": {},
   "outputs": [],
   "source": [
    "a.add_note(m)"
   ]
  },
  {
   "cell_type": "code",
   "execution_count": 53,
   "metadata": {},
   "outputs": [
    {
     "data": {
      "text/plain": [
       "<bound method Note_List.return_as_text of <__main__.Note_List instance at 0x11146d5a8>>"
      ]
     },
     "execution_count": 53,
     "metadata": {},
     "output_type": "execute_result"
    }
   ],
   "source": [
    "a.quantise(minimum_ppq=120)\n",
    "a.simplify_drums\n",
    "a.return_as_text"
   ]
  },
  {
   "cell_type": "code",
   "execution_count": 54,
   "metadata": {},
   "outputs": [
    {
     "data": {
      "text/plain": [
       "<__main__.Note_List instance at 0x11146d5a8>"
      ]
     },
     "execution_count": 54,
     "metadata": {},
     "output_type": "execute_result"
    }
   ],
   "source": [
    "a"
   ]
  },
  {
   "cell_type": "code",
   "execution_count": 31,
   "metadata": {},
   "outputs": [],
   "source": [
    "txt = a.return_as_text"
   ]
  },
  {
   "cell_type": "code",
   "execution_count": 32,
   "metadata": {},
   "outputs": [
    {
     "data": {
      "text/plain": [
       "<bound method Note_List.return_as_text of <__main__.Note_List instance at 0x111473320>>"
      ]
     },
     "execution_count": 32,
     "metadata": {},
     "output_type": "execute_result"
    }
   ],
   "source": [
    "txt"
   ]
  },
  {
   "cell_type": "code",
   "execution_count": 37,
   "metadata": {},
   "outputs": [
    {
     "data": {
      "text/plain": [
       "<__main__.Note_List instance at 0x111473a70>"
      ]
     },
     "execution_count": 37,
     "metadata": {},
     "output_type": "execute_result"
    }
   ],
   "source": [
    "a"
   ]
  },
  {
   "cell_type": "code",
   "execution_count": 23,
   "metadata": {},
   "outputs": [
    {
     "data": {
      "text/plain": [
       "'<bound method Note_List.return_as_text of <__main__.Note_List instance at 0x11146d050>>'"
      ]
     },
     "execution_count": 23,
     "metadata": {},
     "output_type": "execute_result"
    }
   ],
   "source": []
  },
  {
   "cell_type": "code",
   "execution_count": null,
   "metadata": {},
   "outputs": [],
   "source": []
  }
 ],
 "metadata": {
  "kernelspec": {
   "display_name": "Python 2",
   "language": "python",
   "name": "python2"
  },
  "language_info": {
   "codemirror_mode": {
    "name": "ipython",
    "version": 2
   },
   "file_extension": ".py",
   "mimetype": "text/x-python",
   "name": "python",
   "nbconvert_exporter": "python",
   "pygments_lexer": "ipython2",
   "version": "2.7.14"
  }
 },
 "nbformat": 4,
 "nbformat_minor": 2
}
