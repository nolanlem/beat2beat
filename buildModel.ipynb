{
 "cells": [
  {
   "cell_type": "code",
   "execution_count": 58,
   "metadata": {},
   "outputs": [
    {
     "name": "stdout",
     "output_type": "stream",
     "text": [
      "'onsetsdir' : 'np-data/onsets/steve-gadd/'\n",
      "'MIDI sequence directory' : 'plots/MIDI/steve-gadd/'\n",
      "'sequence length' : 100\n",
      "'sourcedir' : 'audio/steve-gadd/'\n",
      "'midi dir' : 'midi/steve-gadd/'\n",
      "'models dir' : 'models/steve-gadd/'\n",
      "'batchsize' : 10\n",
      "'ADT sequence directory' : 'plots/ADT/steve-gadd/'\n",
      "'weightsdir' : 'model-weights/steve-gadd/'\n",
      "'dev data dir' : 'np-data/dev-data/steve-gadd/'\n",
      "'model type' : 'lstm'\n",
      "'epochs' : 3\n",
      "'rendered midi dir' : 'midi/rendered-steve-gadd/'\n",
      "'drummer' : 'steve-gadd'\n",
      "'training data dir' : 'np-data/training-data/steve-gadd/'\n",
      "'slicedir' : 'audio/sliced/steve-gadd/'\n",
      "'loss directory' : 'plots/loss/steve-gadd/'\n",
      "'activationsdir' : 'np-data/activations/steve-gadd/'\n"
     ]
    }
   ],
   "source": [
    "#!/usr/bin/env python\n",
    "\n",
    "import librosa \n",
    "import matplotlib.pyplot as plt\n",
    "import matplotlib.patches as mpatches\n",
    "import numpy as np \n",
    "np.set_printoptions(precision=2,suppress=True)\n",
    "from numpy import newaxis\n",
    "\n",
    "import scipy\n",
    "from librosa import display\n",
    "import os\n",
    "import subprocess\n",
    "import glob\n",
    "import tensorflow as tf\n",
    "#tf.python.control_flow_ops = tf\n",
    "\n",
    "\n",
    "import time\n",
    "import datetime\n",
    "\n",
    "from keras.layers.core import Dense, Activation, Dropout \n",
    "from keras.layers.recurrent import LSTM \n",
    "from keras.models import Sequential\n",
    "from keras.models import load_model \n",
    "from keras.layers import Dense, LSTM, TimeDistributed\n",
    "from keras.utils import np_utils\n",
    "from keras.callbacks import ModelCheckpoint\n",
    "import cwrnn # clockwork rnn \n",
    "from matplotlib.ticker import FormatStrFormatter\n",
    "\n",
    "# set default matplotlib font \n",
    "from matplotlib import rcParams\n",
    "rcParams['font.family'] = 'Times New Roman'\n",
    "\n",
    "import warnings\n",
    "warnings.filterwarnings('ignore')\n",
    "# config file\n",
    "import config.nn_config as nn_config\n",
    "from models import model_builds\n",
    "\n",
    "\n",
    "nn_params = nn_config.get_nn_params()\n"
   ]
  },
  {
   "cell_type": "code",
   "execution_count": 2,
   "metadata": {},
   "outputs": [
    {
     "name": "stdout",
     "output_type": "stream",
     "text": [
      "(168842, 99, 10) (168842, 10)\n",
      "(168842, 99, 10) (168842, 10)\n"
     ]
    }
   ],
   "source": [
    "# thetrdataX= nn_params[\"training data dir\"] + nn_params[\"drummer\"] + \"\" + str(nn_params[\"sequence length\"]) + \"_X.npy\"\n",
    "# thetrdataY = nn_params[\"training data dir\"] + nn_params[\"drummer\"] + \"_seq2seq\" + str(nn_params[\"sequence length\"]) + \"_Y.npy\"\n",
    "\n",
    "xtr = np.load('np-data/training-data/metallica/metallica_seq100_X.npy')\n",
    "ytr = np.load('np-data/training-data/metallica/metallica_seq100_Y.npy')\n",
    "print xtr.shape, ytr.shape\n",
    "# xtr = np.load(thetrdataX)\n",
    "# ytr = np.load(thetrdataY)\n",
    "\n",
    "print xtr.shape, ytr.shape\n",
    "\n",
    "\n",
    "\n",
    "# model = model_builds.build_time_distributed_stateful_model(nn_params['batchsize'], xtr.shape[1], xtr.shape[2], ytr.shape[1])"
   ]
  },
  {
   "cell_type": "code",
   "execution_count": 63,
   "metadata": {},
   "outputs": [
    {
     "name": "stdout",
     "output_type": "stream",
     "text": [
      "x tr shape: (168842, 99, 10)\n",
      "y tr shape: (168842, 10)\n"
     ]
    }
   ],
   "source": [
    "#xtr = np.load(nn_params[\"training data dir\"] + nn_params[\"drummer\"] + \"_X.npy\") \n",
    "#ytr = np.load(nn_params[\"training data dir\"] + nn_params[\"drummer\"] + \"_Y.npy\") \n",
    "# call back function to save weights after every epoch (or iteration through batch here)\n",
    "filepath=\"./model-weights/weights-improvement-{epoch:02d}-{loss:.2f}.hdf5\"\n",
    "filepath = nn_params[\"weightsdir\"] + \"weights-improvement-{epoch:02d}-{loss:.2f}.hdf5\"\n",
    "checkpoint = ModelCheckpoint(filepath, monitor='loss', verbose=1, save_best_only=True, mode='min')\n",
    "callbacks_list = [checkpoint]\n",
    "\n",
    "print \"x tr shape:\", xtr.shape\n",
    "print \"y tr shape:\", ytr.shape\n",
    "\n",
    "from models import model_builds\n",
    "\n",
    "batch_size = 99\n",
    "model = model_builds.build_model(\n",
    "    xtr.shape[1], \n",
    "    xtr.shape[2], \n",
    "    ytr.shape[1]\n",
    ")\n",
    "\n",
    "\n",
    "\n",
    "\n",
    "# model = model_builds.build_model(\n",
    "#     input_dim_1 = xtr.shape[1],\n",
    "#     input_dim_2 = xtr.shape[2],\n",
    "#     y_input_dim_1 = ytr.shape[1]\n",
    "#     )\n",
    "\n",
    "\n",
    "\n"
   ]
  },
  {
   "cell_type": "code",
   "execution_count": 24,
   "metadata": {},
   "outputs": [],
   "source": [
    "\n",
    "\n"
   ]
  },
  {
   "cell_type": "code",
   "execution_count": 26,
   "metadata": {},
   "outputs": [
    {
     "name": "stdout",
     "output_type": "stream",
     "text": [
      "(168842, 92, 10) (168842, 7, 10)\n"
     ]
    }
   ],
   "source": []
  },
  {
   "cell_type": "code",
   "execution_count": 161,
   "metadata": {},
   "outputs": [],
   "source": []
  },
  {
   "cell_type": "code",
   "execution_count": 140,
   "metadata": {},
   "outputs": [
    {
     "data": {
      "image/png": "[encoded data removed]",
      "text/plain": [
       "<matplotlib.figure.Figure at 0x1c228a4450>"
      ]
     },
     "metadata": {},
     "output_type": "display_data"
    }
   ],
   "source": [
    "plt.figure()\n",
    "plt.plot(history.history['loss'])\n",
    "plt.show()"
   ]
  },
  {
   "cell_type": "code",
   "execution_count": 64,
   "metadata": {
    "scrolled": true
   },
   "outputs": [
    {
     "name": "stdout",
     "output_type": "stream",
     "text": [
      "Train on 16884 samples, validate on 151958 samples\n",
      "Epoch 1/100\n",
      "16884/16884 [==============================] - 32s 2ms/step - loss: 1.1634 - acc: 0.2161 - val_loss: 0.8772 - val_acc: 0.2576\n",
      "Epoch 2/100\n",
      "16884/16884 [==============================] - 33s 2ms/step - loss: 0.7497 - acc: 0.3571 - val_loss: 0.6308 - val_acc: 0.3877\n",
      "Epoch 3/100\n",
      "16884/16884 [==============================] - 32s 2ms/step - loss: 0.5749 - acc: 0.3916 - val_loss: 0.5502 - val_acc: 0.3064\n",
      "Epoch 4/100\n",
      "16884/16884 [==============================] - 32s 2ms/step - loss: 0.5127 - acc: 0.3905 - val_loss: 0.5224 - val_acc: 0.3366\n",
      "Epoch 5/100\n",
      "16884/16884 [==============================] - 32s 2ms/step - loss: 0.4871 - acc: 0.3892 - val_loss: 0.5153 - val_acc: 0.3065\n",
      "Epoch 6/100\n",
      "16884/16884 [==============================] - 32s 2ms/step - loss: 0.4739 - acc: 0.3866 - val_loss: 0.5068 - val_acc: 0.3559\n",
      "Epoch 7/100\n",
      "16884/16884 [==============================] - 32s 2ms/step - loss: 0.4648 - acc: 0.3894 - val_loss: 0.4980 - val_acc: 0.2705\n",
      "Epoch 8/100\n",
      "16884/16884 [==============================] - 32s 2ms/step - loss: 0.4565 - acc: 0.3861 - val_loss: 0.5027 - val_acc: 0.3543\n",
      "Epoch 9/100\n",
      "16884/16884 [==============================] - 34s 2ms/step - loss: 0.4531 - acc: 0.3869 - val_loss: 0.5022 - val_acc: 0.3654\n",
      "Epoch 10/100\n",
      "16884/16884 [==============================] - 34s 2ms/step - loss: 0.4493 - acc: 0.3862 - val_loss: 0.4948 - val_acc: 0.2840\n",
      "Epoch 11/100\n",
      "16884/16884 [==============================] - 33s 2ms/step - loss: 0.4455 - acc: 0.3858 - val_loss: 0.5033 - val_acc: 0.2663\n",
      "Epoch 12/100\n",
      "16884/16884 [==============================] - 34s 2ms/step - loss: 0.4433 - acc: 0.3876 - val_loss: 0.5043 - val_acc: 0.3667\n",
      "Epoch 13/100\n",
      "16884/16884 [==============================] - 32s 2ms/step - loss: 0.4413 - acc: 0.3845 - val_loss: 0.5030 - val_acc: 0.3087\n",
      "Epoch 14/100\n",
      "16884/16884 [==============================] - 33s 2ms/step - loss: 0.4400 - acc: 0.3859 - val_loss: 0.4988 - val_acc: 0.3190\n",
      "Epoch 15/100\n",
      "16884/16884 [==============================] - 33s 2ms/step - loss: 0.4387 - acc: 0.3848 - val_loss: 0.5053 - val_acc: 0.4079\n",
      "Epoch 16/100\n",
      "16884/16884 [==============================] - 33s 2ms/step - loss: 0.4383 - acc: 0.3852 - val_loss: 0.5045 - val_acc: 0.2809\n",
      "Epoch 17/100\n",
      "16884/16884 [==============================] - 34s 2ms/step - loss: 0.4369 - acc: 0.3849 - val_loss: 0.5042 - val_acc: 0.3184\n",
      "Epoch 18/100\n",
      "16884/16884 [==============================] - 33s 2ms/step - loss: 0.4360 - acc: 0.3840 - val_loss: 0.5084 - val_acc: 0.4097\n",
      "Epoch 19/100\n",
      "16884/16884 [==============================] - 34s 2ms/step - loss: 0.4354 - acc: 0.3845 - val_loss: 0.5081 - val_acc: 0.3345\n",
      "Epoch 20/100\n",
      "16884/16884 [==============================] - 35s 2ms/step - loss: 0.4344 - acc: 0.3831 - val_loss: 0.5053 - val_acc: 0.2808\n",
      "Epoch 21/100\n",
      "16884/16884 [==============================] - 33s 2ms/step - loss: 0.4336 - acc: 0.3831 - val_loss: 0.5107 - val_acc: 0.3328\n",
      "Epoch 22/100\n",
      "16884/16884 [==============================] - 32s 2ms/step - loss: 0.4333 - acc: 0.3859 - val_loss: 0.5114 - val_acc: 0.3031\n",
      "Epoch 23/100\n",
      "16884/16884 [==============================] - 32s 2ms/step - loss: 0.4330 - acc: 0.3842 - val_loss: 0.5011 - val_acc: 0.2954\n",
      "Epoch 24/100\n",
      "16884/16884 [==============================] - 32s 2ms/step - loss: 0.4326 - acc: 0.3850 - val_loss: 0.5097 - val_acc: 0.3166\n",
      "Epoch 25/100\n",
      "16884/16884 [==============================] - 33s 2ms/step - loss: 0.4319 - acc: 0.3852 - val_loss: 0.5048 - val_acc: 0.3571\n",
      "Epoch 26/100\n",
      "16884/16884 [==============================] - 34s 2ms/step - loss: 0.4320 - acc: 0.3852 - val_loss: 0.5123 - val_acc: 0.3600\n",
      "Epoch 27/100\n",
      "16884/16884 [==============================] - 32s 2ms/step - loss: 0.4312 - acc: 0.3844 - val_loss: 0.5137 - val_acc: 0.3861\n",
      "Epoch 28/100\n",
      "16884/16884 [==============================] - 32s 2ms/step - loss: 0.4310 - acc: 0.3860 - val_loss: 0.5164 - val_acc: 0.3066\n",
      "Epoch 29/100\n",
      "16884/16884 [==============================] - 33s 2ms/step - loss: 0.4304 - acc: 0.3836 - val_loss: 0.5167 - val_acc: 0.2841\n",
      "Epoch 30/100\n",
      "16884/16884 [==============================] - 31s 2ms/step - loss: 0.4295 - acc: 0.3818 - val_loss: 0.5126 - val_acc: 0.3349\n",
      "Epoch 31/100\n",
      "16884/16884 [==============================] - 32s 2ms/step - loss: 0.4301 - acc: 0.3856 - val_loss: 0.5205 - val_acc: 0.2636\n",
      "Epoch 32/100\n",
      "16884/16884 [==============================] - 31s 2ms/step - loss: 0.4300 - acc: 0.3849 - val_loss: 0.5174 - val_acc: 0.3477\n",
      "Epoch 33/100\n",
      "16884/16884 [==============================] - 32s 2ms/step - loss: 0.4294 - acc: 0.3840 - val_loss: 0.5190 - val_acc: 0.3835\n",
      "Epoch 34/100\n",
      "16884/16884 [==============================] - 32s 2ms/step - loss: 0.4294 - acc: 0.3859 - val_loss: 0.5171 - val_acc: 0.3293\n",
      "Epoch 35/100\n",
      "16884/16884 [==============================] - 32s 2ms/step - loss: 0.4293 - acc: 0.3860 - val_loss: 0.5218 - val_acc: 0.2940\n",
      "Epoch 36/100\n",
      "16884/16884 [==============================] - 33s 2ms/step - loss: 0.4285 - acc: 0.3834 - val_loss: 0.5199 - val_acc: 0.3594\n",
      "Epoch 37/100\n",
      "16884/16884 [==============================] - 32s 2ms/step - loss: 0.4287 - acc: 0.3845 - val_loss: 0.5234 - val_acc: 0.4045\n",
      "Epoch 38/100\n",
      "16884/16884 [==============================] - 34s 2ms/step - loss: 0.4276 - acc: 0.3833 - val_loss: 0.5253 - val_acc: 0.3759\n",
      "Epoch 39/100\n",
      "16884/16884 [==============================] - 35s 2ms/step - loss: 0.4283 - acc: 0.3818 - val_loss: 0.5254 - val_acc: 0.3847\n",
      "Epoch 40/100\n",
      "16884/16884 [==============================] - 33s 2ms/step - loss: 0.4277 - acc: 0.3841 - val_loss: 0.5263 - val_acc: 0.3580\n",
      "Epoch 41/100\n",
      "16884/16884 [==============================] - 32s 2ms/step - loss: 0.4280 - acc: 0.3810 - val_loss: 0.5162 - val_acc: 0.4156\n",
      "Epoch 42/100\n",
      "16884/16884 [==============================] - 31s 2ms/step - loss: 0.4276 - acc: 0.3836 - val_loss: 0.5251 - val_acc: 0.3858\n",
      "Epoch 43/100\n",
      "16884/16884 [==============================] - 31s 2ms/step - loss: 0.4272 - acc: 0.3847 - val_loss: 0.5275 - val_acc: 0.2757\n",
      "Epoch 44/100\n",
      "16884/16884 [==============================] - 34s 2ms/step - loss: 0.4271 - acc: 0.3847 - val_loss: 0.5271 - val_acc: 0.2557\n",
      "Epoch 45/100\n",
      "16884/16884 [==============================] - 33s 2ms/step - loss: 0.4273 - acc: 0.3837 - val_loss: 0.5294 - val_acc: 0.3187\n",
      "Epoch 46/100\n",
      "16884/16884 [==============================] - 33s 2ms/step - loss: 0.4267 - acc: 0.3842 - val_loss: 0.5333 - val_acc: 0.3995\n",
      "Epoch 47/100\n",
      "16884/16884 [==============================] - 33s 2ms/step - loss: 0.4266 - acc: 0.3819 - val_loss: 0.5339 - val_acc: 0.3440\n",
      "Epoch 48/100\n",
      "16884/16884 [==============================] - 33s 2ms/step - loss: 0.4264 - acc: 0.3850 - val_loss: 0.5320 - val_acc: 0.2617\n",
      "Epoch 49/100\n",
      "16884/16884 [==============================] - 34s 2ms/step - loss: 0.4265 - acc: 0.3882 - val_loss: 0.5345 - val_acc: 0.3387\n",
      "Epoch 50/100\n",
      "16884/16884 [==============================] - 33s 2ms/step - loss: 0.4262 - acc: 0.3843 - val_loss: 0.5376 - val_acc: 0.4272\n",
      "Epoch 51/100\n",
      "16884/16884 [==============================] - 31s 2ms/step - loss: 0.4256 - acc: 0.3846 - val_loss: 0.5385 - val_acc: 0.4068\n",
      "Epoch 52/100\n",
      "16884/16884 [==============================] - 31s 2ms/step - loss: 0.4256 - acc: 0.3835 - val_loss: 0.5411 - val_acc: 0.2552\n",
      "Epoch 53/100\n",
      "16884/16884 [==============================] - 31s 2ms/step - loss: 0.4256 - acc: 0.3863 - val_loss: 0.5400 - val_acc: 0.3407\n",
      "Epoch 54/100\n",
      "16884/16884 [==============================] - 31s 2ms/step - loss: 0.4254 - acc: 0.3846 - val_loss: 0.5385 - val_acc: 0.3038\n",
      "Epoch 55/100\n",
      "16884/16884 [==============================] - 31s 2ms/step - loss: 0.4253 - acc: 0.3840 - val_loss: 0.5416 - val_acc: 0.3194\n",
      "Epoch 56/100\n",
      "16884/16884 [==============================] - 31s 2ms/step - loss: 0.4255 - acc: 0.3842 - val_loss: 0.5386 - val_acc: 0.4204\n",
      "Epoch 57/100\n",
      "16884/16884 [==============================] - 31s 2ms/step - loss: 0.4253 - acc: 0.3835 - val_loss: 0.5435 - val_acc: 0.3688\n",
      "Epoch 58/100\n",
      "16884/16884 [==============================] - 31s 2ms/step - loss: 0.4251 - acc: 0.3882 - val_loss: 0.5466 - val_acc: 0.3936\n",
      "Epoch 59/100\n"
     ]
    },
    {
     "name": "stdout",
     "output_type": "stream",
     "text": [
      "16884/16884 [==============================] - 31s 2ms/step - loss: 0.4248 - acc: 0.3845 - val_loss: 0.5473 - val_acc: 0.4049\n",
      "Epoch 60/100\n",
      "16884/16884 [==============================] - 31s 2ms/step - loss: 0.4246 - acc: 0.3880 - val_loss: 0.5497 - val_acc: 0.2960\n",
      "Epoch 61/100\n",
      "16884/16884 [==============================] - 31s 2ms/step - loss: 0.4246 - acc: 0.3863 - val_loss: 0.5433 - val_acc: 0.3504\n",
      "Epoch 62/100\n",
      "16884/16884 [==============================] - 31s 2ms/step - loss: 0.4245 - acc: 0.3868 - val_loss: 0.5473 - val_acc: 0.3386\n",
      "Epoch 63/100\n",
      "16884/16884 [==============================] - 31s 2ms/step - loss: 0.4241 - acc: 0.3849 - val_loss: 0.5537 - val_acc: 0.3557\n",
      "Epoch 64/100\n",
      "16884/16884 [==============================] - 31s 2ms/step - loss: 0.4246 - acc: 0.3870 - val_loss: 0.5480 - val_acc: 0.3471\n",
      "Epoch 65/100\n",
      "16884/16884 [==============================] - 31s 2ms/step - loss: 0.4244 - acc: 0.3828 - val_loss: 0.5513 - val_acc: 0.3463\n",
      "Epoch 66/100\n",
      "16884/16884 [==============================] - 31s 2ms/step - loss: 0.4241 - acc: 0.3849 - val_loss: 0.5423 - val_acc: 0.3626\n",
      "Epoch 67/100\n",
      "16884/16884 [==============================] - 31s 2ms/step - loss: 0.4240 - acc: 0.3870 - val_loss: 0.5560 - val_acc: 0.3828\n",
      "Epoch 68/100\n",
      "16884/16884 [==============================] - 31s 2ms/step - loss: 0.4238 - acc: 0.3859 - val_loss: 0.5541 - val_acc: 0.3932\n",
      "Epoch 69/100\n",
      "16884/16884 [==============================] - 31s 2ms/step - loss: 0.4237 - acc: 0.3847 - val_loss: 0.5553 - val_acc: 0.3753\n",
      "Epoch 70/100\n",
      "16884/16884 [==============================] - 31s 2ms/step - loss: 0.4235 - acc: 0.3838 - val_loss: 0.5556 - val_acc: 0.3439\n",
      "Epoch 71/100\n",
      "16884/16884 [==============================] - 31s 2ms/step - loss: 0.4236 - acc: 0.3855 - val_loss: 0.5574 - val_acc: 0.4171\n",
      "Epoch 72/100\n",
      "16884/16884 [==============================] - 30s 2ms/step - loss: 0.4235 - acc: 0.3840 - val_loss: 0.5576 - val_acc: 0.2630\n",
      "Epoch 73/100\n",
      "16884/16884 [==============================] - 31s 2ms/step - loss: 0.4234 - acc: 0.3862 - val_loss: 0.5550 - val_acc: 0.2973\n",
      "Epoch 74/100\n",
      "16884/16884 [==============================] - 30s 2ms/step - loss: 0.4230 - acc: 0.3842 - val_loss: 0.5583 - val_acc: 0.3724\n",
      "Epoch 75/100\n",
      "16884/16884 [==============================] - 31s 2ms/step - loss: 0.4229 - acc: 0.3898 - val_loss: 0.5581 - val_acc: 0.3640\n",
      "Epoch 76/100\n",
      "16884/16884 [==============================] - 31s 2ms/step - loss: 0.4231 - acc: 0.3839 - val_loss: 0.5585 - val_acc: 0.3563\n",
      "Epoch 77/100\n",
      "16884/16884 [==============================] - 30s 2ms/step - loss: 0.4229 - acc: 0.3866 - val_loss: 0.5583 - val_acc: 0.3194\n",
      "Epoch 78/100\n",
      "16884/16884 [==============================] - 30s 2ms/step - loss: 0.4229 - acc: 0.3878 - val_loss: 0.5588 - val_acc: 0.3339\n",
      "Epoch 79/100\n",
      "16884/16884 [==============================] - 30s 2ms/step - loss: 0.4231 - acc: 0.3862 - val_loss: 0.5596 - val_acc: 0.2941\n",
      "Epoch 80/100\n",
      "16884/16884 [==============================] - 30s 2ms/step - loss: 0.4226 - acc: 0.3824 - val_loss: 0.5610 - val_acc: 0.3177\n",
      "Epoch 81/100\n",
      "16884/16884 [==============================] - 30s 2ms/step - loss: 0.4225 - acc: 0.3862 - val_loss: 0.5607 - val_acc: 0.3603\n",
      "Epoch 82/100\n",
      "16884/16884 [==============================] - 30s 2ms/step - loss: 0.4224 - acc: 0.3848 - val_loss: 0.5610 - val_acc: 0.3954\n",
      "Epoch 83/100\n",
      "16884/16884 [==============================] - 30s 2ms/step - loss: 0.4224 - acc: 0.3872 - val_loss: 0.5582 - val_acc: 0.4223\n",
      "Epoch 84/100\n",
      "16884/16884 [==============================] - 31s 2ms/step - loss: 0.4221 - acc: 0.3842 - val_loss: 0.5614 - val_acc: 0.3093\n",
      "Epoch 85/100\n",
      "16884/16884 [==============================] - 31s 2ms/step - loss: 0.4225 - acc: 0.3844 - val_loss: 0.5621 - val_acc: 0.3430\n",
      "Epoch 86/100\n",
      "16884/16884 [==============================] - 30s 2ms/step - loss: 0.4221 - acc: 0.3848 - val_loss: 0.5628 - val_acc: 0.4017\n",
      "Epoch 87/100\n",
      "16884/16884 [==============================] - 30s 2ms/step - loss: 0.4221 - acc: 0.3876 - val_loss: 0.5611 - val_acc: 0.3524\n",
      "Epoch 88/100\n",
      "16884/16884 [==============================] - 31s 2ms/step - loss: 0.4221 - acc: 0.3851 - val_loss: 0.5625 - val_acc: 0.2786\n",
      "Epoch 89/100\n",
      "16884/16884 [==============================] - 30s 2ms/step - loss: 0.4219 - acc: 0.3852 - val_loss: 0.5623 - val_acc: 0.2669\n",
      "Epoch 90/100\n",
      "16884/16884 [==============================] - 30s 2ms/step - loss: 0.4218 - acc: 0.3871 - val_loss: 0.5634 - val_acc: 0.4107\n",
      "Epoch 91/100\n",
      "16884/16884 [==============================] - 30s 2ms/step - loss: 0.4216 - acc: 0.3847 - val_loss: 0.5631 - val_acc: 0.2899\n",
      "Epoch 92/100\n",
      "16884/16884 [==============================] - 30s 2ms/step - loss: 0.4218 - acc: 0.3846 - val_loss: 0.5633 - val_acc: 0.2477\n",
      "Epoch 93/100\n",
      "16884/16884 [==============================] - 30s 2ms/step - loss: 0.4215 - acc: 0.3875 - val_loss: 0.5635 - val_acc: 0.3441\n",
      "Epoch 94/100\n",
      "16884/16884 [==============================] - 30s 2ms/step - loss: 0.4214 - acc: 0.3914 - val_loss: 0.5649 - val_acc: 0.4251\n",
      "Epoch 95/100\n",
      "16884/16884 [==============================] - 30s 2ms/step - loss: 0.4215 - acc: 0.3862 - val_loss: 0.5636 - val_acc: 0.3819\n",
      "Epoch 96/100\n",
      "16884/16884 [==============================] - 30s 2ms/step - loss: 0.4214 - acc: 0.3847 - val_loss: 0.5655 - val_acc: 0.4272\n",
      "Epoch 97/100\n",
      "16884/16884 [==============================] - 30s 2ms/step - loss: 0.4212 - acc: 0.3842 - val_loss: 0.5643 - val_acc: 0.3488\n",
      "Epoch 98/100\n",
      "16884/16884 [==============================] - 30s 2ms/step - loss: 0.4214 - acc: 0.3864 - val_loss: 0.5648 - val_acc: 0.3158\n",
      "Epoch 99/100\n",
      "16884/16884 [==============================] - 31s 2ms/step - loss: 0.4213 - acc: 0.3849 - val_loss: 0.5642 - val_acc: 0.4132\n",
      "Epoch 100/100\n",
      "16884/16884 [==============================] - 31s 2ms/step - loss: 0.4212 - acc: 0.3855 - val_loss: 0.5649 - val_acc: 0.4269\n"
     ]
    }
   ],
   "source": [
    "epochs = 100\n",
    "\n",
    "\n",
    "history = model.fit(xtr, ytr, epochs=epochs, batch_size=batch_size, verbose=1, validation_split=0.9)\n"
   ]
  },
  {
   "cell_type": "code",
   "execution_count": 10,
   "metadata": {},
   "outputs": [
    {
     "name": "stdout",
     "output_type": "stream",
     "text": [
      "(168842, 99, 10)\n"
     ]
    }
   ],
   "source": [
    "print xtr.shape"
   ]
  },
  {
   "cell_type": "code",
   "execution_count": 17,
   "metadata": {},
   "outputs": [],
   "source": [
    "#seed = np.reshape(xtr[0,:,:], (1,xtr.shape[1], xtr.shape[2]))\n",
    "seed = np.reshape(xtr[0,:,:], (1, xtr[0,:,:].shape[0], xtr[0,:,:].shape[1]))\n",
    "pt = model.predict(seed)"
   ]
  },
  {
   "cell_type": "code",
   "execution_count": 65,
   "metadata": {},
   "outputs": [
    {
     "data": {
      "text/plain": [
       "[1.163351910264253,\n",
       " 0.7497267108450312,\n",
       " 0.5749001359062662,\n",
       " 0.5126629852727532,\n",
       " 0.48712878413736693,\n",
       " 0.47392468475329597,\n",
       " 0.46481485526635447,\n",
       " 0.4564607250950992,\n",
       " 0.4530765531080237,\n",
       " 0.4492705804007902,\n",
       " 0.4455161849970121,\n",
       " 0.44328998832274347,\n",
       " 0.44128172247331027,\n",
       " 0.4400444900922811,\n",
       " 0.4386956669342543,\n",
       " 0.4382978529373466,\n",
       " 0.4369496531419154,\n",
       " 0.4359694671815138,\n",
       " 0.43540566571867034,\n",
       " 0.43435630394515196,\n",
       " 0.43356642512274957,\n",
       " 0.43328004609992,\n",
       " 0.43295724639919264,\n",
       " 0.43255105233395785,\n",
       " 0.4319110138298098,\n",
       " 0.4319913414463814,\n",
       " 0.43115287730847596,\n",
       " 0.43099481102500137,\n",
       " 0.4303915322795987,\n",
       " 0.4295461316749867,\n",
       " 0.4300843096459344,\n",
       " 0.43002127479515606,\n",
       " 0.4294065784083119,\n",
       " 0.42942089708184383,\n",
       " 0.4293284034773485,\n",
       " 0.42852086365731284,\n",
       " 0.4287114288411669,\n",
       " 0.42760734723956345,\n",
       " 0.4282594182566285,\n",
       " 0.4277204313893308,\n",
       " 0.42797986495850693,\n",
       " 0.42756383084475613,\n",
       " 0.4272395998620784,\n",
       " 0.4271308825468458,\n",
       " 0.4273238893765122,\n",
       " 0.42667794761373035,\n",
       " 0.42659655275311803,\n",
       " 0.42640012806094785,\n",
       " 0.4264931795455372,\n",
       " 0.4261706330454044,\n",
       " 0.4256028878901686,\n",
       " 0.42563359256682876,\n",
       " 0.4256205349715788,\n",
       " 0.42543537977503054,\n",
       " 0.4253125551667041,\n",
       " 0.42545054897443574,\n",
       " 0.4253348547226585,\n",
       " 0.42509205230295277,\n",
       " 0.4247986810214357,\n",
       " 0.42463667191930415,\n",
       " 0.4246178999193696,\n",
       " 0.4245238719877404,\n",
       " 0.42408866205735246,\n",
       " 0.42459463856335894,\n",
       " 0.42440505387750005,\n",
       " 0.4240795990694433,\n",
       " 0.4239967114635622,\n",
       " 0.42380774669301535,\n",
       " 0.4236727325297368,\n",
       " 0.42349097734765967,\n",
       " 0.423584098222731,\n",
       " 0.4235356253410962,\n",
       " 0.42336767733986697,\n",
       " 0.4229658360102538,\n",
       " 0.4229485431809161,\n",
       " 0.42305495574085444,\n",
       " 0.4229184823758058,\n",
       " 0.4229271124119062,\n",
       " 0.42311451518967713,\n",
       " 0.42261008661724864,\n",
       " 0.42248166007782095,\n",
       " 0.42238742854994243,\n",
       " 0.4224400008792308,\n",
       " 0.4221293177527151,\n",
       " 0.4225087664656039,\n",
       " 0.42208857360933383,\n",
       " 0.42207461952972514,\n",
       " 0.4220620769459301,\n",
       " 0.4219008842542736,\n",
       " 0.42181277984399784,\n",
       " 0.42164504264336405,\n",
       " 0.4218253420868408,\n",
       " 0.42153861237042495,\n",
       " 0.42138549002375936,\n",
       " 0.4214566552372121,\n",
       " 0.4213572798539072,\n",
       " 0.42122842584337505,\n",
       " 0.4214083415898941,\n",
       " 0.42128703858393596,\n",
       " 0.42119862742102476]"
      ]
     },
     "execution_count": 65,
     "metadata": {},
     "output_type": "execute_result"
    }
   ],
   "source": [
    "history.history['loss']"
   ]
  },
  {
   "cell_type": "code",
   "execution_count": 92,
   "metadata": {},
   "outputs": [
    {
     "name": "stdout",
     "output_type": "stream",
     "text": [
      "(187, 5)\n"
     ]
    }
   ],
   "source": [
    "print t0.shape"
   ]
  },
  {
   "cell_type": "code",
   "execution_count": 103,
   "metadata": {},
   "outputs": [
    {
     "data": {
      "text/plain": [
       "<matplotlib.figure.Figure at 0x10d54cf50>"
      ]
     },
     "metadata": {},
     "output_type": "display_data"
    }
   ],
   "source": [
    "plt.savefig('temporal compressions.tif', dpi=300\n",
    "        )"
   ]
  },
  {
   "cell_type": "code",
   "execution_count": 105,
   "metadata": {},
   "outputs": [
    {
     "name": "stdout",
     "output_type": "stream",
     "text": [
      "[[0 0 0 0 0]\n",
      " [0 0 0 0 0]\n",
      " [0 0 0 0 0]\n",
      " [0 0 0 0 0]\n",
      " [0 0 0 0 0]\n",
      " [0 0 0 0 0]\n",
      " [0 0 0 0 0]\n",
      " [0 0 0 0 0]\n",
      " [0 0 0 0 0]\n",
      " [0 0 0 0 0]\n",
      " [0 0 0 0 0]\n",
      " [0 0 0 0 0]\n",
      " [0 0 0 0 0]\n",
      " [0 0 0 0 0]\n",
      " [0 0 0 0 0]\n",
      " [0 0 0 0 0]\n",
      " [0 0 0 0 0]\n",
      " [0 0 0 0 0]\n",
      " [0 0 0 0 0]\n",
      " [0 0 0 0 0]]\n"
     ]
    },
    {
     "data": {
      "image/png": "[encoded data removed]",
      "text/plain": [
       "<matplotlib.figure.Figure at 0x1c83b43e10>"
      ]
     },
     "metadata": {},
     "output_type": "display_data"
    }
   ],
   "source": [
    "t = np.array([[0,0,0,0,1]])\n",
    "z = np.array([[0,0,0,0,0]])\n",
    "z = np.repeat(z, 20, axis=0 )\n",
    "print z\n",
    "t0 = np.vstack((t,z))\n",
    "t0 = np.vstack((t0,t0))\n",
    "\n",
    "st = 19\n",
    "for i in range(20):\n",
    "    z = np.array([[0,0,0,0,0]])\n",
    "    z = np.repeat(z, st, axis=0)\n",
    "    t1 = np.vstack((t,z))\n",
    "    t0 = np.vstack((t0,t1))\n",
    "    st = st - 1\n",
    "\n",
    "plt.figure(figsize=(10,3))\n",
    "for i in range(t0.shape[1]):\n",
    "    plt.stem(t0[:,i], '--k', linewidth=0.2)\n",
    "\n",
    "\n",
    "plt.savefig('temporal-compressions.pdf', dpi=300)\n",
    "\n",
    "\n",
    "plt.show()\n",
    "\n",
    "\n"
   ]
  },
  {
   "cell_type": "code",
   "execution_count": 77,
   "metadata": {},
   "outputs": [
    {
     "data": {
      "image/png": "[encoded data removed]",
      "text/plain": [
       "<matplotlib.figure.Figure at 0x1c82b3d090>"
      ]
     },
     "metadata": {},
     "output_type": "display_data"
    }
   ],
   "source": [
    "plt.figure()\n",
    "tacc, = plt.plot(history.history[\"acc\"], 'darkblue', label='training (Paul Motion)')\n",
    "vacc, = plt.plot(history.history[\"val_acc\"], 'green', label='baseline')\n",
    "plt.title('Accuracy vs. Epoch')\n",
    "plt.legend(handles=[tacc,vacc])\n",
    "plt.ylabel('Accuracy')\n",
    "plt.xlabel('Epochs')\n",
    "plt.savefig('plots/the-accuracy-8am.pdf', dpi=100)\n",
    "plt.show()"
   ]
  },
  {
   "cell_type": "code",
   "execution_count": 67,
   "metadata": {},
   "outputs": [
    {
     "data": {
      "image/png": "[encoded data removed]",
      "text/plain": [
       "<matplotlib.figure.Figure at 0x1c827c0350>"
      ]
     },
     "metadata": {},
     "output_type": "display_data"
    }
   ],
   "source": [
    "\n",
    "plt.figure()\n",
    "tloss, = plt.plot(history.history[\"loss\"], 'b', label='training loss')\n",
    "vloss, = plt.plot(history.history[\"val_loss\"], 'g', label='val loss')\n",
    "plt.title('loss vs. epoch')\n",
    "plt.ylabel('loss')\n",
    "plt.xlabel('epochs')\n",
    "import matplotlib.patches as mpatches\n",
    "\n",
    "plt.legend(handles=[tloss,vloss])\n",
    "plt.savefig('plots/the-loss-8am.pdf', dpi=100)\n",
    "plt.show()"
   ]
  },
  {
   "cell_type": "code",
   "execution_count": 100,
   "metadata": {
    "scrolled": true
   },
   "outputs": [
    {
     "name": "stdout",
     "output_type": "stream",
     "text": [
      "... running batch 0/1...\n",
      "Epoch 1/10\n",
      " - 0s - loss: 15.5777\n",
      "\n",
      "Epoch 00001: loss did not improve from 0.38350\n",
      "Epoch 2/10\n",
      " - 0s - loss: 11.1426\n",
      "\n",
      "Epoch 00002: loss did not improve from 0.38350\n",
      "Epoch 3/10\n",
      " - 0s - loss: 9.3737\n",
      "\n",
      "Epoch 00003: loss did not improve from 0.38350\n",
      "Epoch 4/10\n",
      " - 0s - loss: 7.8785\n",
      "\n",
      "Epoch 00004: loss did not improve from 0.38350\n",
      "Epoch 5/10\n",
      " - 0s - loss: 6.6641\n",
      "\n",
      "Epoch 00005: loss did not improve from 0.38350\n",
      "Epoch 6/10\n",
      " - 0s - loss: 6.1492\n",
      "\n",
      "Epoch 00006: loss did not improve from 0.38350\n",
      "Epoch 7/10\n",
      " - 0s - loss: 5.9865\n",
      "\n",
      "Epoch 00007: loss did not improve from 0.38350\n",
      "Epoch 8/10\n",
      " - 0s - loss: 5.9252\n",
      "\n",
      "Epoch 00008: loss did not improve from 0.38350\n",
      "Epoch 9/10\n",
      " - 0s - loss: 5.8891\n",
      "\n",
      "Epoch 00009: loss did not improve from 0.38350\n",
      "Epoch 10/10\n",
      " - 0s - loss: 5.8691\n",
      "\n",
      "Epoch 00010: loss did not improve from 0.38350\n",
      "Wed_Jun__6_20:17:30_2018-{epoch:02d}-{loss:.2f}.h5\n"
     ]
    }
   ],
   "source": [
    "loss = []\n",
    "batch_size = 72\n",
    "num_iters = 1\n",
    "\n",
    "for i in range(num_iters):\n",
    "    print '... running batch %r/%r...' %(i,num_seq)\n",
    "    history = model.fit(xtr, ytr, nb_epoch=10, batch_size=batch_size,\n",
    "             verbose=2, shuffle=True, callbacks=callbacks_list)\n",
    "    loss.append(history.history['loss'])\n",
    "    model.reset_states()\n",
    "\n",
    "loss = np.array(loss)\n",
    "model.save_weights(nn_params[\"loss directory\"] + \"weights-improvement-{epoch:02d}-{loss:.2f}.h5\")\n",
    "\n",
    "ts = time.gmtime()\n",
    "modelsavefn = time.strftime(\"%c\", ts).replace(' ', '_') + \"-{epoch:02d}-{loss:.2f}\" + \".h5\"\n",
    "print modelsavefn\n",
    "model.save(nn_params[\"models dir\"] + modelsavefn)\n",
    "\n"
   ]
  },
  {
   "cell_type": "code",
   "execution_count": 22,
   "metadata": {},
   "outputs": [
    {
     "data": {
      "image/png": "[encoded data removed]",
      "text/plain": [
       "<matplotlib.figure.Figure at 0x1c2f38a190>"
      ]
     },
     "metadata": {},
     "output_type": "display_data"
    }
   ],
   "source": [
    "plt.figure()\n",
    "plt.plot(loss)\n",
    "plt.show()"
   ]
  },
  {
   "cell_type": "code",
   "execution_count": 123,
   "metadata": {},
   "outputs": [
    {
     "name": "stdout",
     "output_type": "stream",
     "text": [
      "(8, 8, 10)\n"
     ]
    }
   ],
   "source": [
    "seed = xtr[0:8,:,:]\n",
    "theseed=model.predict(seed)\n",
    "print theseed.shape\n"
   ]
  },
  {
   "cell_type": "code",
   "execution_count": 134,
   "metadata": {},
   "outputs": [],
   "source": [
    "def predictSequences(theseed, num_sequences=3):\n",
    "    #seed = np.reshape(theseed[0,:,:], (1, theseed[0,:,:].shape[0], theseed[0,:,:].shape[1]))\n",
    "    seed = theseed\n",
    "    sumseqs = np.empty((0,8,10))\n",
    "    for i in range(num_sequences):\n",
    "        theseq = model.predict(seed)\n",
    "        print theseq.shape\n",
    "        sumseqs = np.vstack((sumseqs, theseq))\n",
    "        seed = theseq\n",
    "\n",
    "\n",
    "\n",
    "    return theseq\n",
    "        "
   ]
  },
  {
   "cell_type": "code",
   "execution_count": 135,
   "metadata": {},
   "outputs": [
    {
     "name": "stdout",
     "output_type": "stream",
     "text": [
      "(8, 8, 10)\n",
      "(8, 8, 10)\n",
      "(8, 8, 10)\n"
     ]
    }
   ],
   "source": [
    "#seed = np.reshape(xtr[0,:,:], (1, xtr[0,:,:].shape[0], xtr[0,:,:].shape[1]))\n",
    "#print seed.shape\n",
    "s = predictSequences(seed, 3)"
   ]
  },
  {
   "cell_type": "code",
   "execution_count": 133,
   "metadata": {},
   "outputs": [
    {
     "data": {
      "text/plain": [
       "(8, 8, 10)"
      ]
     },
     "execution_count": 133,
     "metadata": {},
     "output_type": "execute_result"
    }
   ],
   "source": [
    "s.shape"
   ]
  },
  {
   "cell_type": "code",
   "execution_count": 114,
   "metadata": {},
   "outputs": [
    {
     "ename": "ValueError",
     "evalue": "Error when checking : expected lstm_13_input to have 3 dimensions, but got array with shape (8, 10)",
     "output_type": "error",
     "traceback": [
      "\u001b[0;31m---------------------------------------------------------------------------\u001b[0m",
      "\u001b[0;31mValueError\u001b[0m                                Traceback (most recent call last)",
      "\u001b[0;32m<ipython-input-114-c9f29be1d9f3>\u001b[0m in \u001b[0;36m<module>\u001b[0;34m()\u001b[0m\n\u001b[1;32m      1\u001b[0m \u001b[0msumseqs\u001b[0m \u001b[0;34m=\u001b[0m \u001b[0mnp\u001b[0m\u001b[0;34m.\u001b[0m\u001b[0mempty\u001b[0m\u001b[0;34m(\u001b[0m\u001b[0;34m(\u001b[0m\u001b[0;36m0\u001b[0m\u001b[0;34m,\u001b[0m\u001b[0;36m8\u001b[0m\u001b[0;34m,\u001b[0m\u001b[0;36m10\u001b[0m\u001b[0;34m)\u001b[0m\u001b[0;34m)\u001b[0m\u001b[0;34m\u001b[0m\u001b[0m\n\u001b[0;32m----> 2\u001b[0;31m \u001b[0mtheseq\u001b[0m \u001b[0;34m=\u001b[0m \u001b[0mmodel\u001b[0m\u001b[0;34m.\u001b[0m\u001b[0mpredict\u001b[0m\u001b[0;34m(\u001b[0m\u001b[0mxtr\u001b[0m\u001b[0;34m[\u001b[0m\u001b[0;36m0\u001b[0m\u001b[0;34m,\u001b[0m\u001b[0;34m:\u001b[0m\u001b[0;34m,\u001b[0m\u001b[0;34m:\u001b[0m\u001b[0;34m]\u001b[0m\u001b[0;34m)\u001b[0m\u001b[0;34m\u001b[0m\u001b[0m\n\u001b[0m\u001b[1;32m      3\u001b[0m \u001b[0;34m\u001b[0m\u001b[0m\n\u001b[1;32m      4\u001b[0m \u001b[0;34m\u001b[0m\u001b[0m\n\u001b[1;32m      5\u001b[0m \u001b[0msumseqs\u001b[0m \u001b[0;34m=\u001b[0m \u001b[0mnp\u001b[0m\u001b[0;34m.\u001b[0m\u001b[0mempty\u001b[0m\u001b[0;34m(\u001b[0m\u001b[0;34m(\u001b[0m\u001b[0;36m0\u001b[0m\u001b[0;34m,\u001b[0m\u001b[0;36m8\u001b[0m\u001b[0;34m,\u001b[0m\u001b[0;36m10\u001b[0m\u001b[0;34m)\u001b[0m\u001b[0;34m)\u001b[0m\u001b[0;34m\u001b[0m\u001b[0m\n",
      "\u001b[0;32m/Users/nolanlem/anaconda2/lib/python2.7/site-packages/keras/models.pyc\u001b[0m in \u001b[0;36mpredict\u001b[0;34m(self, x, batch_size, verbose, steps)\u001b[0m\n\u001b[1;32m   1062\u001b[0m             \u001b[0mself\u001b[0m\u001b[0;34m.\u001b[0m\u001b[0mbuild\u001b[0m\u001b[0;34m(\u001b[0m\u001b[0;34m)\u001b[0m\u001b[0;34m\u001b[0m\u001b[0m\n\u001b[1;32m   1063\u001b[0m         return self.model.predict(x, batch_size=batch_size, verbose=verbose,\n\u001b[0;32m-> 1064\u001b[0;31m                                   steps=steps)\n\u001b[0m\u001b[1;32m   1065\u001b[0m \u001b[0;34m\u001b[0m\u001b[0m\n\u001b[1;32m   1066\u001b[0m     \u001b[0;32mdef\u001b[0m \u001b[0mpredict_on_batch\u001b[0m\u001b[0;34m(\u001b[0m\u001b[0mself\u001b[0m\u001b[0;34m,\u001b[0m \u001b[0mx\u001b[0m\u001b[0;34m)\u001b[0m\u001b[0;34m:\u001b[0m\u001b[0;34m\u001b[0m\u001b[0m\n",
      "\u001b[0;32m/Users/nolanlem/anaconda2/lib/python2.7/site-packages/keras/engine/training.pyc\u001b[0m in \u001b[0;36mpredict\u001b[0;34m(self, x, batch_size, verbose, steps)\u001b[0m\n\u001b[1;32m   1815\u001b[0m         x = _standardize_input_data(x, self._feed_input_names,\n\u001b[1;32m   1816\u001b[0m                                     \u001b[0mself\u001b[0m\u001b[0;34m.\u001b[0m\u001b[0m_feed_input_shapes\u001b[0m\u001b[0;34m,\u001b[0m\u001b[0;34m\u001b[0m\u001b[0m\n\u001b[0;32m-> 1817\u001b[0;31m                                     check_batch_axis=False)\n\u001b[0m\u001b[1;32m   1818\u001b[0m         \u001b[0;32mif\u001b[0m \u001b[0mself\u001b[0m\u001b[0;34m.\u001b[0m\u001b[0mstateful\u001b[0m\u001b[0;34m:\u001b[0m\u001b[0;34m\u001b[0m\u001b[0m\n\u001b[1;32m   1819\u001b[0m             \u001b[0;32mif\u001b[0m \u001b[0mx\u001b[0m\u001b[0;34m[\u001b[0m\u001b[0;36m0\u001b[0m\u001b[0;34m]\u001b[0m\u001b[0;34m.\u001b[0m\u001b[0mshape\u001b[0m\u001b[0;34m[\u001b[0m\u001b[0;36m0\u001b[0m\u001b[0;34m]\u001b[0m \u001b[0;34m>\u001b[0m \u001b[0mbatch_size\u001b[0m \u001b[0;32mand\u001b[0m \u001b[0mx\u001b[0m\u001b[0;34m[\u001b[0m\u001b[0;36m0\u001b[0m\u001b[0;34m]\u001b[0m\u001b[0;34m.\u001b[0m\u001b[0mshape\u001b[0m\u001b[0;34m[\u001b[0m\u001b[0;36m0\u001b[0m\u001b[0;34m]\u001b[0m \u001b[0;34m%\u001b[0m \u001b[0mbatch_size\u001b[0m \u001b[0;34m!=\u001b[0m \u001b[0;36m0\u001b[0m\u001b[0;34m:\u001b[0m\u001b[0;34m\u001b[0m\u001b[0m\n",
      "\u001b[0;32m/Users/nolanlem/anaconda2/lib/python2.7/site-packages/keras/engine/training.pyc\u001b[0m in \u001b[0;36m_standardize_input_data\u001b[0;34m(data, names, shapes, check_batch_axis, exception_prefix)\u001b[0m\n\u001b[1;32m    111\u001b[0m                         \u001b[0;34m': expected '\u001b[0m \u001b[0;34m+\u001b[0m \u001b[0mnames\u001b[0m\u001b[0;34m[\u001b[0m\u001b[0mi\u001b[0m\u001b[0;34m]\u001b[0m \u001b[0;34m+\u001b[0m \u001b[0;34m' to have '\u001b[0m \u001b[0;34m+\u001b[0m\u001b[0;34m\u001b[0m\u001b[0m\n\u001b[1;32m    112\u001b[0m                         \u001b[0mstr\u001b[0m\u001b[0;34m(\u001b[0m\u001b[0mlen\u001b[0m\u001b[0;34m(\u001b[0m\u001b[0mshape\u001b[0m\u001b[0;34m)\u001b[0m\u001b[0;34m)\u001b[0m \u001b[0;34m+\u001b[0m \u001b[0;34m' dimensions, but got array '\u001b[0m\u001b[0;34m\u001b[0m\u001b[0m\n\u001b[0;32m--> 113\u001b[0;31m                         'with shape ' + str(data_shape))\n\u001b[0m\u001b[1;32m    114\u001b[0m                 \u001b[0;32mif\u001b[0m \u001b[0;32mnot\u001b[0m \u001b[0mcheck_batch_axis\u001b[0m\u001b[0;34m:\u001b[0m\u001b[0;34m\u001b[0m\u001b[0m\n\u001b[1;32m    115\u001b[0m                     \u001b[0mdata_shape\u001b[0m \u001b[0;34m=\u001b[0m \u001b[0mdata_shape\u001b[0m\u001b[0;34m[\u001b[0m\u001b[0;36m1\u001b[0m\u001b[0;34m:\u001b[0m\u001b[0;34m]\u001b[0m\u001b[0;34m\u001b[0m\u001b[0m\n",
      "\u001b[0;31mValueError\u001b[0m: Error when checking : expected lstm_13_input to have 3 dimensions, but got array with shape (8, 10)"
     ]
    }
   ],
   "source": [
    "sumseqs = np.empty((0,8,10))\n",
    "\n",
    "theseq = model.predict(xtr[0,:,:])\n",
    "\n",
    "\n",
    "sumseqs = np.empty((0,8,10))\n",
    "theseq = model.predict(xtr[0,:,:])\n",
    "model.predict(theseq)\n",
    "sumseqs = np.vstack((sumseqs, theseq))\n",
    "theseq2 = model.predict(theseq)\n",
    "sumseqs = np.vstack((sumseqs, theseq2))\n"
   ]
  },
  {
   "cell_type": "code",
   "execution_count": 138,
   "metadata": {},
   "outputs": [
    {
     "ename": "IndexError",
     "evalue": "index 0 is out of bounds for axis 0 with size 0",
     "output_type": "error",
     "traceback": [
      "\u001b[0;31m---------------------------------------------------------------------------\u001b[0m",
      "\u001b[0;31mIndexError\u001b[0m                                Traceback (most recent call last)",
      "\u001b[0;32m<ipython-input-138-b29d7408cfd1>\u001b[0m in \u001b[0;36m<module>\u001b[0;34m()\u001b[0m\n\u001b[0;32m----> 1\u001b[0;31m \u001b[0;32mprint\u001b[0m \u001b[0msumseqs\u001b[0m\u001b[0;34m[\u001b[0m\u001b[0;36m0\u001b[0m\u001b[0;34m,\u001b[0m\u001b[0;34m:\u001b[0m\u001b[0;34m,\u001b[0m\u001b[0;34m:\u001b[0m\u001b[0;34m]\u001b[0m\u001b[0;34m\u001b[0m\u001b[0m\n\u001b[0m\u001b[1;32m      2\u001b[0m \u001b[0;32mprint\u001b[0m \u001b[0msumseqs\u001b[0m\u001b[0;34m[\u001b[0m\u001b[0;36m8\u001b[0m\u001b[0;34m,\u001b[0m\u001b[0;34m:\u001b[0m\u001b[0;34m,\u001b[0m\u001b[0;34m:\u001b[0m\u001b[0;34m]\u001b[0m\u001b[0;34m\u001b[0m\u001b[0m\n",
      "\u001b[0;31mIndexError\u001b[0m: index 0 is out of bounds for axis 0 with size 0"
     ]
    }
   ],
   "source": [
    "print sumseqs[0,:,:]\n",
    "print sumseqs[8,:,:]\n"
   ]
  },
  {
   "cell_type": "code",
   "execution_count": 112,
   "metadata": {},
   "outputs": [
    {
     "data": {
      "text/plain": [
       "(16, 8, 10)"
      ]
     },
     "execution_count": 112,
     "metadata": {},
     "output_type": "execute_result"
    }
   ],
   "source": [
    "sumseqs.shape"
   ]
  },
  {
   "cell_type": "code",
   "execution_count": 110,
   "metadata": {},
   "outputs": [
    {
     "data": {
      "text/plain": [
       "array([[0.  , 0.67, 0.  , 0.  , 0.22, 0.01, 0.05, 0.01, 0.04, 0.01],\n",
       "       [0.  , 0.07, 0.  , 0.  , 0.03, 0.  , 0.69, 0.01, 0.19, 0.  ],\n",
       "       [0.  , 0.16, 0.  , 0.  , 0.15, 0.01, 0.55, 0.01, 0.11, 0.  ],\n",
       "       [0.  , 0.  , 0.  , 0.  , 0.  , 0.  , 1.  , 0.  , 0.  , 0.  ],\n",
       "       [0.  , 0.67, 0.  , 0.  , 0.22, 0.01, 0.05, 0.01, 0.04, 0.01],\n",
       "       [0.  , 0.07, 0.  , 0.  , 0.03, 0.  , 0.69, 0.01, 0.19, 0.  ],\n",
       "       [0.  , 0.16, 0.  , 0.  , 0.15, 0.01, 0.55, 0.01, 0.11, 0.  ],\n",
       "       [0.  , 0.  , 0.  , 0.  , 0.  , 0.  , 1.  , 0.  , 0.  , 0.  ],\n",
       "       [0.  , 0.07, 0.  , 0.  , 0.03, 0.  , 0.69, 0.01, 0.19, 0.  ],\n",
       "       [0.  , 0.16, 0.  , 0.  , 0.15, 0.01, 0.55, 0.01, 0.11, 0.  ],\n",
       "       [0.  , 0.  , 0.  , 0.  , 0.  , 0.  , 1.  , 0.  , 0.  , 0.  ],\n",
       "       [0.  , 0.67, 0.  , 0.  , 0.22, 0.01, 0.05, 0.01, 0.04, 0.01],\n",
       "       [0.  , 0.07, 0.  , 0.  , 0.03, 0.  , 0.69, 0.01, 0.19, 0.  ],\n",
       "       [0.  , 0.16, 0.  , 0.  , 0.15, 0.01, 0.55, 0.01, 0.11, 0.  ],\n",
       "       [0.  , 0.  , 0.  , 0.  , 0.  , 0.  , 1.  , 0.  , 0.  , 0.  ],\n",
       "       [0.  , 0.67, 0.  , 0.  , 0.22, 0.01, 0.05, 0.01, 0.04, 0.01]])"
      ]
     },
     "execution_count": 110,
     "metadata": {},
     "output_type": "execute_result"
    }
   ],
   "source": [
    "ss[0:16,:]"
   ]
  },
  {
   "cell_type": "code",
   "execution_count": 109,
   "metadata": {},
   "outputs": [],
   "source": [
    "ss = np.reshape(sumseqs, (16*8,10))"
   ]
  },
  {
   "cell_type": "code",
   "execution_count": 111,
   "metadata": {},
   "outputs": [
    {
     "data": {
      "image/png": "[encoded data removed]",
      "text/plain": [
       "<matplotlib.figure.Figure at 0x1c21cabed0>"
      ]
     },
     "metadata": {},
     "output_type": "display_data"
    }
   ],
   "source": [
    "\n",
    "sc = np.array([1.1,1.0,0.9,0.8,0.7,0.6,0.5,0.4,0.3,0.2])\n",
    "\n",
    "plt.figure()\n",
    "for i in range(8):\n",
    "    plt.stem(ss[:,i]*sc[i])      \n",
    "\n",
    "\n",
    "\n",
    "plt.show()\n",
    "plt.close()"
   ]
  },
  {
   "cell_type": "code",
   "execution_count": 58,
   "metadata": {},
   "outputs": [
    {
     "name": "stdout",
     "output_type": "stream",
     "text": [
      "(8, 8, 10)\n",
      "[0.53 0.01 0.27 0.   0.67 0.07 0.17 0.  ]\n"
     ]
    },
    {
     "data": {
      "image/png": "[encoded data removed]",
      "text/plain": [
       "<matplotlib.figure.Figure at 0x1c330ea110>"
      ]
     },
     "metadata": {},
     "output_type": "display_data"
    }
   ],
   "source": [
    "print theseq.shape\n",
    "print theseq[0,:,1]\n",
    "plt.figure()\n",
    "plt.stem(theseq[0,:,1])\n",
    "plt.show()"
   ]
  },
  {
   "cell_type": "code",
   "execution_count": 6,
   "metadata": {},
   "outputs": [],
   "source": [
    "\n",
    "filen = \"weights-improvement-01-2.98.hdf5\"\n",
    "model.load_weights(nn_params[\"weightsdir\"] + filen)\n",
    "\n"
   ]
  },
  {
   "cell_type": "code",
   "execution_count": 176,
   "metadata": {},
   "outputs": [
    {
     "name": "stdout",
     "output_type": "stream",
     "text": [
      "[[0. 0. 0. 0. 0. 0. 0. 0. 0. 0.]\n",
      " [0. 0. 0. 0. 0. 0. 1. 0. 0. 0.]\n",
      " [0. 0. 0. 0. 0. 0. 0. 0. 0. 0.]\n",
      " [0. 0. 0. 0. 0. 0. 0. 0. 0. 0.]\n",
      " [0. 0. 0. 0. 0. 0. 0. 0. 0. 0.]\n",
      " [0. 0. 0. 0. 0. 0. 1. 0. 0. 0.]]\n",
      "(1, 6, 10)\n"
     ]
    }
   ],
   "source": [
    "xtr.shape\n",
    "seed = xtr[10,:,:]\n",
    "print seed\n",
    "seed = np.reshape(seed, (1, seed.shape[0], seed.shape[1]))\n",
    "print seed.shape"
   ]
  },
  {
   "cell_type": "code",
   "execution_count": 21,
   "metadata": {},
   "outputs": [],
   "source": [
    "def predict_point(model, data):\n",
    "    #predict each timestep given the last sequence of the true data\n",
    "    predicted = model.predict(data) \n",
    "    predicted = np.reshape(predicted, (predicted.size,)) \n",
    "    return predicted "
   ]
  },
  {
   "cell_type": "code",
   "execution_count": 24,
   "metadata": {},
   "outputs": [],
   "source": [
    "def generate_sequence(model, seed, seq_len, noiters, binflag=False):\n",
    "    # shift window by 1 new prediction each time, re-run prediction on window \n",
    "    curr_frame = seed # this will be X_test data\n",
    "    predicted = []\n",
    "    thresh = 0.5\n",
    "    gen_seq = np.empty((0, seed.shape[2]))\n",
    "    for i in xrange(noiters):\n",
    "        predpt = model.predict(curr_frame)#[0,0]\n",
    "        print predpt\n",
    "        #predpt[predpt > 0.5] = 1\n",
    "        gen_seq = np.vstack((gen_seq, predpt))\n",
    "        curr_frame = curr_frame[:, 1:, :]\n",
    "        #print curr_frame.shape\n",
    "        \n",
    "        #print curr_frame[newaxis,:,:][0,0]\n",
    "        curr_frame = np.insert(curr_frame, seq_len-1, predpt, axis=1)\n",
    "    return gen_seq"
   ]
  },
  {
   "cell_type": "code",
   "execution_count": 42,
   "metadata": {},
   "outputs": [],
   "source": [
    "xtr.shape\n",
    "seed = xtr[1000,:,:]\n",
    "seed = np.reshape(seed, (1, seed.shape[0], seed.shape[1]))\n"
   ]
  },
  {
   "cell_type": "code",
   "execution_count": 43,
   "metadata": {
    "scrolled": true
   },
   "outputs": [
    {
     "name": "stdout",
     "output_type": "stream",
     "text": [
      "[[0.   0.42 0.   0.08 0.01 0.01 0.44 0.   0.04 0.  ]]\n",
      "[[0.   0.41 0.   0.01 0.   0.   0.58 0.   0.   0.  ]]\n",
      "[[0.   0.17 0.   0.   0.   0.   0.83 0.   0.   0.  ]]\n",
      "[[0. 0. 0. 0. 0. 0. 1. 0. 0. 0.]]\n",
      "[[0. 0. 0. 0. 0. 0. 1. 0. 0. 0.]]\n",
      "[[0. 0. 0. 0. 0. 0. 1. 0. 0. 0.]]\n",
      "[[0. 0. 0. 0. 0. 0. 1. 0. 0. 0.]]\n",
      "[[0. 0. 0. 0. 0. 0. 1. 0. 0. 0.]]\n",
      "[[0. 0. 0. 0. 0. 0. 1. 0. 0. 0.]]\n",
      "[[0. 0. 0. 0. 0. 0. 1. 0. 0. 0.]]\n",
      "[[0. 0. 0. 0. 0. 0. 1. 0. 0. 0.]]\n",
      "[[0. 0. 0. 0. 0. 0. 1. 0. 0. 0.]]\n",
      "[[0. 0. 0. 0. 0. 0. 1. 0. 0. 0.]]\n",
      "[[0. 0. 0. 0. 0. 0. 1. 0. 0. 0.]]\n",
      "[[0. 0. 0. 0. 0. 0. 1. 0. 0. 0.]]\n",
      "[[0. 0. 0. 0. 0. 0. 1. 0. 0. 0.]]\n",
      "[[0. 0. 0. 0. 0. 0. 1. 0. 0. 0.]]\n",
      "[[0. 0. 0. 0. 0. 0. 1. 0. 0. 0.]]\n",
      "[[0. 0. 0. 0. 0. 0. 1. 0. 0. 0.]]\n",
      "[[0. 0. 0. 0. 0. 0. 1. 0. 0. 0.]]\n",
      "[[0. 0. 0. 0. 0. 0. 1. 0. 0. 0.]]\n",
      "[[0. 0. 0. 0. 0. 0. 1. 0. 0. 0.]]\n",
      "[[0. 0. 0. 0. 0. 0. 1. 0. 0. 0.]]\n",
      "[[0. 0. 0. 0. 0. 0. 1. 0. 0. 0.]]\n",
      "[[0. 0. 0. 0. 0. 0. 1. 0. 0. 0.]]\n",
      "[[0. 0. 0. 0. 0. 0. 1. 0. 0. 0.]]\n",
      "[[0. 0. 0. 0. 0. 0. 1. 0. 0. 0.]]\n",
      "[[0. 0. 0. 0. 0. 0. 1. 0. 0. 0.]]\n",
      "[[0. 0. 0. 0. 0. 0. 1. 0. 0. 0.]]\n",
      "[[0. 0. 0. 0. 0. 0. 1. 0. 0. 0.]]\n"
     ]
    }
   ],
   "source": [
    "seq = generate_sequence(model, seed, 99, 30)"
   ]
  },
  {
   "cell_type": "code",
   "execution_count": 178,
   "metadata": {},
   "outputs": [
    {
     "data": {
      "text/plain": [
       "array([[ 0.  ,  0.  , -0.  ,  0.  ,  0.  , -0.  ,  1.  ,  0.  , -0.  ,\n",
       "         0.  ],\n",
       "       [-0.  , -0.  , -0.  ,  0.  ,  0.  , -0.  ,  1.  , -0.  , -0.  ,\n",
       "         0.  ],\n",
       "       [-0.  , -0.  , -0.  , -0.  ,  0.  , -0.  ,  1.  , -0.  , -0.  ,\n",
       "         0.  ],\n",
       "       [-0.  , -0.  , -0.  , -0.  ,  0.  , -0.  ,  1.  , -0.  , -0.  ,\n",
       "         0.  ],\n",
       "       [-0.  , -0.01, -0.  , -0.  ,  0.  , -0.  ,  1.  , -0.  , -0.  ,\n",
       "         0.  ],\n",
       "       [-0.  , -0.01, -0.  , -0.  ,  0.  , -0.  ,  1.  , -0.  , -0.  ,\n",
       "         0.  ],\n",
       "       [-0.  , -0.01, -0.  , -0.  ,  0.  , -0.  ,  1.  , -0.  , -0.  ,\n",
       "         0.  ],\n",
       "       [-0.  , -0.01, -0.  , -0.  ,  0.  , -0.  ,  1.  , -0.  , -0.  ,\n",
       "         0.  ],\n",
       "       [-0.  , -0.01, -0.  , -0.  ,  0.  , -0.  ,  1.  , -0.  , -0.01,\n",
       "         0.  ],\n",
       "       [-0.  , -0.01, -0.  , -0.  ,  0.  , -0.  ,  1.  , -0.  , -0.01,\n",
       "         0.  ],\n",
       "       [-0.  , -0.01, -0.  , -0.  ,  0.  , -0.  ,  1.  , -0.  , -0.01,\n",
       "         0.  ],\n",
       "       [-0.  , -0.01, -0.  , -0.  ,  0.  , -0.  ,  1.  , -0.  , -0.01,\n",
       "         0.  ],\n",
       "       [-0.  , -0.01, -0.  , -0.  ,  0.  , -0.  ,  1.  , -0.  , -0.01,\n",
       "         0.  ],\n",
       "       [-0.  , -0.01, -0.  , -0.  ,  0.  , -0.  ,  1.  , -0.  , -0.01,\n",
       "         0.  ],\n",
       "       [-0.  , -0.01, -0.  , -0.  ,  0.  , -0.  ,  1.  , -0.  , -0.01,\n",
       "         0.  ],\n",
       "       [-0.  , -0.02, -0.  , -0.  ,  0.  , -0.  ,  1.  , -0.  , -0.01,\n",
       "         0.  ],\n",
       "       [-0.  , -0.02, -0.  , -0.  ,  0.  , -0.  ,  1.  , -0.  , -0.01,\n",
       "         0.  ],\n",
       "       [-0.  , -0.02, -0.  , -0.  ,  0.  , -0.  ,  1.  , -0.  , -0.01,\n",
       "         0.  ],\n",
       "       [-0.  , -0.02, -0.  , -0.  ,  0.  , -0.  ,  1.  , -0.  , -0.01,\n",
       "         0.  ],\n",
       "       [-0.  , -0.02, -0.  , -0.  ,  0.  , -0.  ,  1.  , -0.  , -0.01,\n",
       "         0.  ],\n",
       "       [-0.  , -0.02, -0.  , -0.  ,  0.01, -0.  ,  1.  , -0.  , -0.01,\n",
       "         0.  ],\n",
       "       [-0.  , -0.02, -0.  , -0.  ,  0.01, -0.  ,  1.  , -0.  , -0.01,\n",
       "         0.  ],\n",
       "       [-0.  , -0.02, -0.  , -0.  ,  0.01, -0.  ,  1.  , -0.  , -0.01,\n",
       "         0.  ],\n",
       "       [-0.  , -0.02, -0.  , -0.  ,  0.01, -0.  ,  1.  , -0.  , -0.01,\n",
       "         0.  ],\n",
       "       [-0.  , -0.02, -0.  , -0.  ,  0.01, -0.  ,  1.  , -0.  , -0.01,\n",
       "         0.  ],\n",
       "       [-0.  , -0.02, -0.  , -0.  ,  0.01, -0.  ,  1.  , -0.  , -0.01,\n",
       "         0.  ],\n",
       "       [-0.  , -0.02, -0.  , -0.  ,  0.01, -0.  ,  1.  , -0.  , -0.01,\n",
       "         0.  ],\n",
       "       [-0.  , -0.02, -0.  , -0.  ,  0.01, -0.  ,  1.  , -0.  , -0.01,\n",
       "         0.  ],\n",
       "       [-0.  , -0.02, -0.  , -0.  ,  0.01, -0.  ,  1.  , -0.  , -0.01,\n",
       "         0.  ],\n",
       "       [-0.  , -0.02, -0.  , -0.  ,  0.01, -0.  ,  1.  , -0.  , -0.01,\n",
       "         0.  ]])"
      ]
     },
     "execution_count": 178,
     "metadata": {},
     "output_type": "execute_result"
    }
   ],
   "source": [
    "seq"
   ]
  },
  {
   "cell_type": "code",
   "execution_count": 82,
   "metadata": {},
   "outputs": [],
   "source": [
    "# predvect = predict_sequence(model, seed, 1, 20)\n",
    "# print predvect"
   ]
  },
  {
   "cell_type": "code",
   "execution_count": 7,
   "metadata": {},
   "outputs": [],
   "source": [
    "def load_npdata(datadirX, datadirY, split, repeat=False, no_times=400):\n",
    "    x = np.load(datadirX)\n",
    "    y = np.load(dataDirY)\n",
    "    split = split \n",
    "\n",
    "    xtr = x[:split*x.shape[0],:,:]\n",
    "    ytr = y[:split*y.shape[0]]\n",
    "\n",
    "    xval = x[split*x.shape[0]:,:,:]\n",
    "    yval = y[split*x.shape[0]]\n",
    "    \n",
    "    if repeat==True:\n",
    "        xtr = np.repeat(s, no_times, axis=0)\n",
    "        ytr = np.repeat(sy,no_times, axis=0)\n",
    "    \n",
    "    return xtr, ytr, xval, yval\n",
    "    "
   ]
  },
  {
   "cell_type": "code",
   "execution_count": null,
   "metadata": {},
   "outputs": [],
   "source": []
  }
 ],
 "metadata": {
  "kernelspec": {
   "display_name": "Python 2",
   "language": "python",
   "name": "python2"
  },
  "language_info": {
   "codemirror_mode": {
    "name": "ipython",
    "version": 2
   },
   "file_extension": ".py",
   "mimetype": "text/x-python",
   "name": "python",
   "nbconvert_exporter": "python",
   "pygments_lexer": "ipython2",
   "version": "2.7.14"
  }
 },
 "nbformat": 4,
 "nbformat_minor": 2
}
